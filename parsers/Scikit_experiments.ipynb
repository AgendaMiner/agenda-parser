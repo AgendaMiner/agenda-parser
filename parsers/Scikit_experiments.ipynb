{
 "cells": [
  {
   "cell_type": "code",
   "execution_count": 36,
   "metadata": {
    "collapsed": false
   },
   "outputs": [],
   "source": [
    "import numpy as np\n",
    "import matplotlib.pyplot as plt\n",
    "from sklearn import linear_model, metrics\n",
    "import pandas as pd\n",
    "\n",
    "df = pd.read_csv('sunnyvale_4-12-16_lines_classified.csv', sep = ',', header = 0)\n",
    "\n",
    "# subset to X (independent features)\n",
    "x_df = df.drop(['meeting_heading', 'section_heading', 'item_heading', 'item_text', 'other_text', 'line_id', 'meeting_date', 'text', 'font_name', 'first_char', 'font_size', 'left_inset', 'agency'], axis=1)\n",
    "\n",
    "# subset to Y indicators for each line type\n",
    "meeting_heading_df = df[['meeting_heading']]\n",
    "section_heading_df = df['section_heading']\n",
    "item_heading_df = df[['item_heading']]\n",
    "item_text_df = df[['item_text']]\n",
    "other_text_df = df[['other_text']]\n",
    "\n",
    "# convert to numpy arrays\n",
    "X = np.array(x_df)\n",
    "y = np.array(section_heading_df)"
   ]
  },
  {
   "cell_type": "code",
   "execution_count": 33,
   "metadata": {
    "collapsed": false
   },
   "outputs": [],
   "source": [
    "# run regression\n",
    "regr = linear_model.LogisticRegression()\n",
    "regr.fit(X, y)\n",
    "\n",
    "# show output\n",
    "regr.coef_\n",
    "predictions = regr.predict(X)"
   ]
  },
  {
   "cell_type": "code",
   "execution_count": 35,
   "metadata": {
    "collapsed": false
   },
   "outputs": [
    {
     "name": "stdout",
     "output_type": "stream",
     "text": [
      "false\n",
      "false\n",
      "false\n",
      "false\n"
     ]
    }
   ],
   "source": [
    "for i in range(Y.size):\n",
    "        if predictions[i] != Y[i]:\n",
    "            print \"false\""
   ]
  },
  {
   "cell_type": "code",
   "execution_count": 41,
   "metadata": {
    "collapsed": false
   },
   "outputs": [
    {
     "name": "stderr",
     "output_type": "stream",
     "text": [
      "........................................................................................................................................................................................................................................................................................................................................................................................................................................................................................................................................................................................................................................................................................................................................................................................................................................................................................................................................................................................................................................[Parallel(n_jobs=1)]: Done  10 out of  10 | elapsed:    0.1s finished\n"
     ]
    },
    {
     "data": {
      "text/plain": [
       "LassoCV(alphas=None, copy_X=True, cv=10, eps=0.001, fit_intercept=True,\n",
       "    max_iter=1000, n_alphas=100, n_jobs=1, normalize=False, positive=False,\n",
       "    precompute='auto', random_state=None, selection='cyclic', tol=0.0001,\n",
       "    verbose=True)"
      ]
     },
     "execution_count": 41,
     "metadata": {},
     "output_type": "execute_result"
    }
   ],
   "source": [
    "# lasso with cross-validation\n",
    "lasso_cv = linear_model.LassoCV(cv=10, verbose=True)\n",
    "lasso_cv.fit(X,y)"
   ]
  },
  {
   "cell_type": "code",
   "execution_count": 46,
   "metadata": {
    "collapsed": false
   },
   "outputs": [
    {
     "name": "stdout",
     "output_type": "stream",
     "text": [
      "false\n",
      "false\n",
      "false\n"
     ]
    }
   ],
   "source": [
    "raw_predicts = lasso_cv.predict(X)\n",
    "\n",
    "classifications = list()\n",
    "for pred in raw_predicts:\n",
    "    pred_class = 0\n",
    "    if pred > 0.5:\n",
    "        pred_class = 1\n",
    "        \n",
    "    classifications.append(pred_class)\n",
    "    \n",
    "# evaluate performance\n",
    "\n",
    "for i in range(y.size):\n",
    "        if classifications[i] != y[i]:\n",
    "            print \"false\""
   ]
  }
 ],
 "metadata": {
  "kernelspec": {
   "display_name": "Python 2",
   "language": "python",
   "name": "python2"
  },
  "language_info": {
   "codemirror_mode": {
    "name": "ipython",
    "version": 2
   },
   "file_extension": ".py",
   "mimetype": "text/x-python",
   "name": "python",
   "nbconvert_exporter": "python",
   "pygments_lexer": "ipython2",
   "version": "2.7.11"
  }
 },
 "nbformat": 4,
 "nbformat_minor": 0
}
